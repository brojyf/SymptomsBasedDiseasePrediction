{
 "cells": [
  {
   "metadata": {},
   "cell_type": "markdown",
   "source": "### 1. Import Libraries and Final Variables",
   "id": "54199fa537c9e2cd"
  },
  {
   "metadata": {
    "ExecuteTime": {
     "end_time": "2025-05-09T03:53:47.299209Z",
     "start_time": "2025-05-09T03:53:47.295499Z"
    }
   },
   "cell_type": "code",
   "source": [
    "import pandas as pd\n",
    "import torch\n",
    "import torch.nn as nn\n",
    "from torch.utils.data import Dataset, DataLoader\n",
    "import torch.optim as optim\n",
    "from sklearn.metrics import accuracy_score, precision_recall_fscore_support\n",
    "from sklearn.model_selection import train_test_split\n",
    "from sklearn.preprocessing import StandardScaler, LabelEncoder\n",
    "import matplotlib.pyplot as plt\n",
    "import joblib\n",
    "\n",
    "RANDOM_SEED = 1024\n",
    "torch.manual_seed(RANDOM_SEED)\n",
    "DATA_PATH = \"../../DATA/new_dataset.csv\"\n",
    "NUM_EPOCHS = 50\n",
    "BATCH_SIZE = 64\n",
    "\n",
    "device = torch.device(\"cuda\" if torch.cuda.is_available() else \"cpu\")\n",
    "print(f\"Using {device}\")"
   ],
   "id": "518b1fd8ef2c61f6",
   "outputs": [
    {
     "name": "stdout",
     "output_type": "stream",
     "text": [
      "Using cpu\n"
     ]
    }
   ],
   "execution_count": 3
  },
  {
   "metadata": {},
   "cell_type": "markdown",
   "source": "### 2. Preprocess Data",
   "id": "fc945a1d2927bd60"
  },
  {
   "metadata": {
    "ExecuteTime": {
     "end_time": "2025-05-09T04:08:44.483039Z",
     "start_time": "2025-05-09T04:08:42.619028Z"
    }
   },
   "cell_type": "code",
   "source": [
    "# Load File\n",
    "df = (\n",
    "    pd.read_csv(DATA_PATH)\n",
    "      .drop_duplicates()\n",
    "      .reset_index(drop=True)\n",
    ")\n",
    "df.shape"
   ],
   "id": "5a996b8afd869488",
   "outputs": [
    {
     "data": {
      "text/plain": [
       "(189647, 378)"
      ]
     },
     "execution_count": 12,
     "metadata": {},
     "output_type": "execute_result"
    }
   ],
   "execution_count": 12
  },
  {
   "metadata": {
    "ExecuteTime": {
     "end_time": "2025-05-09T04:08:52.881425Z",
     "start_time": "2025-05-09T04:08:52.799089Z"
    }
   },
   "cell_type": "code",
   "source": [
    "# Feature/Label\n",
    "X = df.iloc[:, 1:].values\n",
    "y = df.iloc[:, 0].values\n",
    "X.shape"
   ],
   "id": "2822062f657ca302",
   "outputs": [
    {
     "data": {
      "text/plain": [
       "(189647, 377)"
      ]
     },
     "execution_count": 13,
     "metadata": {},
     "output_type": "execute_result"
    }
   ],
   "execution_count": 13
  },
  {
   "metadata": {
    "ExecuteTime": {
     "end_time": "2025-05-09T04:08:55.218093Z",
     "start_time": "2025-05-09T04:08:55.205401Z"
    }
   },
   "cell_type": "code",
   "source": [
    "# Label Encoder\n",
    "label_encoder = LabelEncoder()\n",
    "y = label_encoder.fit_transform(y)"
   ],
   "id": "b4a320881aa59bf4",
   "outputs": [],
   "execution_count": 14
  },
  {
   "metadata": {
    "ExecuteTime": {
     "end_time": "2025-05-09T04:08:56.192864Z",
     "start_time": "2025-05-09T04:08:55.850242Z"
    }
   },
   "cell_type": "code",
   "source": [
    "# Train/Val\n",
    "X_train, X_temp, y_train, y_temp = train_test_split(\n",
    "    X, y, test_size=0.3)"
   ],
   "id": "1bbd825b3e294118",
   "outputs": [],
   "execution_count": 15
  },
  {
   "metadata": {
    "ExecuteTime": {
     "end_time": "2025-05-09T03:53:52.468696Z",
     "start_time": "2025-05-09T03:53:52.426339Z"
    }
   },
   "cell_type": "code",
   "source": [
    "# Test/Val\n",
    "X_val, X_test, y_val, y_test = train_test_split( X_temp, y_temp, test_size=0.5)\n",
    "len(X_val)/len(X_test)"
   ],
   "id": "6260c946bc5a25d3",
   "outputs": [
    {
     "data": {
      "text/plain": [
       "0.999964848143982"
      ]
     },
     "execution_count": 8,
     "metadata": {},
     "output_type": "execute_result"
    }
   ],
   "execution_count": 8
  },
  {
   "metadata": {
    "ExecuteTime": {
     "end_time": "2025-05-09T03:53:56.171521Z",
     "start_time": "2025-05-09T03:53:55.801534Z"
    }
   },
   "cell_type": "code",
   "source": [
    "# Normalize\n",
    "scaler = StandardScaler()\n",
    "X_train = scaler.fit_transform(X_train)\n",
    "X_val = scaler.transform(X_val)\n",
    "X_test = scaler.transform(X_test)"
   ],
   "id": "23a3131ad5e3afa9",
   "outputs": [],
   "execution_count": 9
  },
  {
   "metadata": {
    "ExecuteTime": {
     "end_time": "2025-05-09T03:53:58.069452Z",
     "start_time": "2025-05-09T03:53:58.064437Z"
    }
   },
   "cell_type": "code",
   "source": [
    "# Save\n",
    "joblib.dump(scaler, 'output/scaler.pkl')\n",
    "joblib.dump(label_encoder, 'output/label_encoder.pkl')"
   ],
   "id": "2505b477d8b5d7c1",
   "outputs": [
    {
     "data": {
      "text/plain": [
       "['label_encoder.pkl']"
      ]
     },
     "execution_count": 10,
     "metadata": {},
     "output_type": "execute_result"
    }
   ],
   "execution_count": 10
  },
  {
   "metadata": {},
   "cell_type": "markdown",
   "source": "### 3. Define Dataset",
   "id": "212a3a00867d1fc0"
  },
  {
   "metadata": {},
   "cell_type": "code",
   "outputs": [],
   "execution_count": null,
   "source": [
    "class SymptomDataset(Dataset):\n",
    "    def __init__(self, features, labels):\n",
    "        self.X = torch.tensor(features, dtype=torch.float32)\n",
    "        self.y = torch.tensor(labels, dtype=torch.long)\n",
    "    def __len__(self):\n",
    "        return len(self.y)\n",
    "    def __getitem__(self, idx):\n",
    "        return self.X[idx], self.y[idx]"
   ],
   "id": "9f18f096d84fa40c"
  },
  {
   "metadata": {},
   "cell_type": "code",
   "outputs": [],
   "execution_count": null,
   "source": [
    "train_dataset = SymptomDataset(X_train, y_train)\n",
    "val_dataset = SymptomDataset(X_val, y_val)\n",
    "test_dataset = SymptomDataset(X_test, y_test)\n",
    "\n",
    "train_loader = DataLoader(train_dataset, batch_size=BATCH_SIZE, shuffle=True)\n",
    "val_loader = DataLoader(val_dataset, batch_size=BATCH_SIZE, shuffle=False)\n",
    "test_loader = DataLoader(test_dataset, batch_size=BATCH_SIZE, shuffle=False)"
   ],
   "id": "a17ee02366aa3e04"
  },
  {
   "metadata": {},
   "cell_type": "markdown",
   "source": "### 4. Define MLP",
   "id": "9b1f11c02ef1c09b"
  },
  {
   "metadata": {
    "ExecuteTime": {
     "end_time": "2025-05-09T03:35:18.660841Z",
     "start_time": "2025-05-09T03:35:18.658129Z"
    }
   },
   "cell_type": "code",
   "source": [
    "class MLP(nn.Module):\n",
    "    def __init__(self, input_size, hidden_layers, num_classes, dropout=0.2):\n",
    "        super(MLP, self).__init__()\n",
    "        layers = []\n",
    "        in_features = input_size\n",
    "\n",
    "        for hidden_size in hidden_layers:\n",
    "            layers.append(nn.Linear(in_features, hidden_size))\n",
    "            layers.append(nn.BatchNorm1d(hidden_size))\n",
    "            layers.append(nn.ReLU())\n",
    "            layers.append(nn.Dropout(dropout))\n",
    "            in_features = hidden_size\n",
    "\n",
    "        layers.append(nn.Linear(in_features, num_classes))\n",
    "        self.network = nn.Sequential(*layers)\n",
    "\n",
    "    def forward(self, x):\n",
    "        return self.network(x)"
   ],
   "id": "921535a1594c9523",
   "outputs": [],
   "execution_count": 164
  },
  {
   "metadata": {
    "ExecuteTime": {
     "end_time": "2025-05-09T03:35:19.669741Z",
     "start_time": "2025-05-09T03:35:19.321716Z"
    }
   },
   "cell_type": "code",
   "source": [
    "scaler = StandardScaler()\n",
    "X_train = scaler.fit_transform(X_train)   # fit on train\n",
    "X_val   = scaler.transform(X_val)         # 同样的变换应用到 val\n",
    "\n",
    "input_size   = X_train.shape[1]\n",
    "num_classes  = len(set(y))\n",
    "hidden_layers = [256, 128]\n",
    "\n",
    "model = MLP(input_size, hidden_layers, num_classes)\n",
    "device = torch.device(\"cuda\" if torch.cuda.is_available() else \"cpu\")\n",
    "model.to(device)"
   ],
   "id": "f99817244ee7d145",
   "outputs": [
    {
     "data": {
      "text/plain": [
       "MLP(\n",
       "  (network): Sequential(\n",
       "    (0): Linear(in_features=377, out_features=256, bias=True)\n",
       "    (1): BatchNorm1d(256, eps=1e-05, momentum=0.1, affine=True, track_running_stats=True)\n",
       "    (2): ReLU()\n",
       "    (3): Dropout(p=0.2, inplace=False)\n",
       "    (4): Linear(in_features=256, out_features=128, bias=True)\n",
       "    (5): BatchNorm1d(128, eps=1e-05, momentum=0.1, affine=True, track_running_stats=True)\n",
       "    (6): ReLU()\n",
       "    (7): Dropout(p=0.2, inplace=False)\n",
       "    (8): Linear(in_features=128, out_features=773, bias=True)\n",
       "  )\n",
       ")"
      ]
     },
     "execution_count": 165,
     "metadata": {},
     "output_type": "execute_result"
    }
   ],
   "execution_count": 165
  },
  {
   "metadata": {},
   "cell_type": "markdown",
   "source": "### 5. Loss & Optimizer",
   "id": "5feda1498f70a27"
  },
  {
   "metadata": {
    "ExecuteTime": {
     "end_time": "2025-05-09T03:35:21.026615Z",
     "start_time": "2025-05-09T03:35:21.024631Z"
    }
   },
   "cell_type": "code",
   "source": [
    "criterion = nn.CrossEntropyLoss()\n",
    "optimizer = optim.Adam(model.parameters(), lr=5e-4, weight_decay=1e-4)"
   ],
   "id": "773d6363a4b3a67f",
   "outputs": [],
   "execution_count": 166
  },
  {
   "metadata": {
    "ExecuteTime": {
     "end_time": "2025-05-09T03:35:21.427397Z",
     "start_time": "2025-05-09T03:35:21.424364Z"
    }
   },
   "cell_type": "code",
   "source": [
    "class EarlyStopping:\n",
    "    def __init__(self, patience=5, delta=0.0):\n",
    "        self.patience = patience\n",
    "        self.delta = delta\n",
    "        self.best_loss = float('inf')\n",
    "        self.counter = 0\n",
    "\n",
    "    def __call__(self, val_loss, model, save_path):\n",
    "        if val_loss + self.delta < self.best_loss:\n",
    "            self.best_loss = val_loss\n",
    "            self.counter = 0\n",
    "            torch.save(model.state_dict(), save_path)\n",
    "        else:\n",
    "            self.counter += 1\n",
    "        return self.counter >= self.patience\n",
    "\n",
    "early_stopper = EarlyStopping(patience=5, delta=1e-5)"
   ],
   "id": "13364bf84ed75b9c",
   "outputs": [],
   "execution_count": 167
  },
  {
   "metadata": {},
   "cell_type": "markdown",
   "source": "### 6. Train",
   "id": "7167b00237528daa"
  },
  {
   "metadata": {
    "ExecuteTime": {
     "end_time": "2025-05-09T03:36:23.915642Z",
     "start_time": "2025-05-09T03:35:22.657042Z"
    }
   },
   "cell_type": "code",
   "source": [
    "train_losses = []\n",
    "val_losses   = []\n",
    "best_val_loss = float('inf')\n",
    "best_model_path = \"output/mlp_disease_model.pth\"\n",
    "\n",
    "for epoch in range(NUM_EPOCHS):\n",
    "    model.train()\n",
    "    running_loss = 0.0\n",
    "    for inputs, labels in train_loader:\n",
    "        inputs, labels = inputs.to(device), labels.to(device)\n",
    "        optimizer.zero_grad()\n",
    "        outputs = model(inputs)\n",
    "        loss = criterion(outputs, labels)\n",
    "        loss.backward()\n",
    "        optimizer.step()\n",
    "        running_loss += loss.item()\n",
    "    epoch_train_loss = running_loss / len(train_loader)\n",
    "    train_losses.append(epoch_train_loss)\n",
    "\n",
    "    model.eval()\n",
    "    val_loss = 0.0\n",
    "    with torch.no_grad():\n",
    "        for inputs, labels in val_loader:\n",
    "            inputs, labels = inputs.to(device), labels.to(device)\n",
    "            outputs = model(inputs)\n",
    "            val_loss += criterion(outputs, labels).item()\n",
    "    epoch_val_loss = val_loss / len(val_loader)\n",
    "    val_losses.append(epoch_val_loss)\n",
    "\n",
    "    if epoch_val_loss < best_val_loss:\n",
    "        best_val_loss = epoch_val_loss\n",
    "        torch.save(model.state_dict(), best_model_path)\n",
    "\n",
    "    print(f\"Epoch {epoch+1}/{NUM_EPOCHS}  Train Loss: {epoch_train_loss:.4f}  Val Loss: {epoch_val_loss:.4f}\")\n",
    "\n",
    "    if early_stopper(val_loss, model, best_model_path):\n",
    "        print(f\"Validation loss not improve, stop early: (patience={early_stopper.patience})\")\n",
    "        break"
   ],
   "id": "d897e650a3a1b672",
   "outputs": [
    {
     "name": "stdout",
     "output_type": "stream",
     "text": [
      "Epoch 1/50  Train Loss: 1.7118  Val Loss: 0.6463\n",
      "Epoch 2/50  Train Loss: 0.6978  Val Loss: 0.5177\n",
      "Epoch 3/50  Train Loss: 0.6119  Val Loss: 0.4778\n",
      "Epoch 4/50  Train Loss: 0.5700  Val Loss: 0.4681\n",
      "Epoch 5/50  Train Loss: 0.5498  Val Loss: 0.4536\n",
      "Epoch 6/50  Train Loss: 0.5321  Val Loss: 0.4462\n",
      "Epoch 7/50  Train Loss: 0.5164  Val Loss: 0.4391\n",
      "Epoch 8/50  Train Loss: 0.5093  Val Loss: 0.4406\n",
      "Epoch 9/50  Train Loss: 0.5041  Val Loss: 0.4347\n",
      "Epoch 10/50  Train Loss: 0.4947  Val Loss: 0.4303\n",
      "Epoch 11/50  Train Loss: 0.4874  Val Loss: 0.4268\n",
      "Epoch 12/50  Train Loss: 0.4844  Val Loss: 0.4283\n",
      "Epoch 13/50  Train Loss: 0.4789  Val Loss: 0.4251\n",
      "Epoch 14/50  Train Loss: 0.4723  Val Loss: 0.4253\n",
      "Epoch 15/50  Train Loss: 0.4690  Val Loss: 0.4203\n",
      "Epoch 16/50  Train Loss: 0.4666  Val Loss: 0.4191\n",
      "Epoch 17/50  Train Loss: 0.4645  Val Loss: 0.4183\n",
      "Epoch 18/50  Train Loss: 0.4611  Val Loss: 0.4219\n",
      "Epoch 19/50  Train Loss: 0.4575  Val Loss: 0.4195\n",
      "Epoch 20/50  Train Loss: 0.4562  Val Loss: 0.4154\n",
      "Epoch 21/50  Train Loss: 0.4533  Val Loss: 0.4171\n",
      "Epoch 22/50  Train Loss: 0.4515  Val Loss: 0.4124\n",
      "Epoch 23/50  Train Loss: 0.4494  Val Loss: 0.4144\n",
      "Epoch 24/50  Train Loss: 0.4486  Val Loss: 0.4139\n",
      "Epoch 25/50  Train Loss: 0.4452  Val Loss: 0.4141\n",
      "Epoch 26/50  Train Loss: 0.4447  Val Loss: 0.4130\n",
      "Epoch 27/50  Train Loss: 0.4417  Val Loss: 0.4130\n",
      "Validation loss not improve, stop early: (patience=5)\n"
     ]
    }
   ],
   "execution_count": 168
  },
  {
   "metadata": {},
   "cell_type": "markdown",
   "source": "### 7. Evaluation",
   "id": "7b0d5eed0b4db7be"
  },
  {
   "metadata": {
    "ExecuteTime": {
     "end_time": "2025-05-09T03:36:31.498693Z",
     "start_time": "2025-05-09T03:36:31.262293Z"
    }
   },
   "cell_type": "code",
   "source": [
    "model.eval()\n",
    "y_true = []\n",
    "y_pred = []\n",
    "\n",
    "top5_hits = 0\n",
    "total = 0\n",
    "\n",
    "with torch.no_grad():\n",
    "    for inputs, labels in test_loader:\n",
    "        inputs = inputs.to(device)\n",
    "        labels = labels.to(device)\n",
    "        outputs = model(inputs)\n",
    "        # Top 1\n",
    "        _, predicted = outputs.max(dim=1)\n",
    "        y_true.extend(labels.cpu().numpy())\n",
    "        y_pred.extend(predicted.cpu().numpy())\n",
    "        # Top 5\n",
    "        _, top5_pred = outputs.topk(5, dim=1)\n",
    "        hits = (top5_pred == labels.unsqueeze(1)).any(dim=1).sum().item()\n",
    "        top5_hits += hits\n",
    "        total += labels.size(0)\n",
    "\n",
    "\n",
    "accuracy = accuracy_score(y_true, y_pred)\n",
    "precision, recall, f1, _ = precision_recall_fscore_support(\n",
    "    y_true, y_pred,\n",
    "    average='weighted',\n",
    "    zero_division=0\n",
    ")\n",
    "print(f\"Test Acc (Top-1): {accuracy:.4f}\")\n",
    "print(f\"Test Precision:    {precision:.4f}\")\n",
    "print(f\"Test Recall:       {recall:.4f}\")\n",
    "print(f\"Test F1:           {f1:.4f}\")\n",
    "\n",
    "top5_acc = top5_hits / total\n",
    "print(f\"Test Top-5 Accuracy: {top5_acc:.4f}\")"
   ],
   "id": "743b8fea20d3783d",
   "outputs": [
    {
     "name": "stdout",
     "output_type": "stream",
     "text": [
      "Test Acc (Top-1): 0.8246\n",
      "Test Precision:    0.8413\n",
      "Test Recall:       0.8246\n",
      "Test F1:           0.8248\n",
      "Test Top-5 Accuracy: 0.9719\n"
     ]
    }
   ],
   "execution_count": 171
  },
  {
   "metadata": {},
   "cell_type": "markdown",
   "source": "### 8. Viz",
   "id": "2cdd67e5b4dd79f5"
  },
  {
   "metadata": {
    "ExecuteTime": {
     "end_time": "2025-05-09T03:36:33.575358Z",
     "start_time": "2025-05-09T03:36:33.511907Z"
    }
   },
   "cell_type": "code",
   "source": [
    "plt.figure(figsize=(8, 6))\n",
    "\n",
    "epochs = range(1, len(train_losses) + 1)\n",
    "plt.plot(epochs, train_losses, label='Training Loss')\n",
    "plt.plot(epochs, val_losses[:len(epochs)], label='Validation Loss')\n",
    "plt.xlabel('Epoch')\n",
    "plt.ylabel('Loss')\n",
    "plt.title('Training / Validation Loss')\n",
    "plt.legend()\n",
    "plt.show()"
   ],
   "id": "5c5ce3c72153412b",
   "outputs": [
    {
     "data": {
      "text/plain": [
       "<Figure size 800x600 with 1 Axes>"
      ],
      "image/png": "[encoded data removed]"
     },
     "metadata": {},
     "output_type": "display_data"
    }
   ],
   "execution_count": 172
  },
  {
   "metadata": {
    "ExecuteTime": {
     "end_time": "2025-05-09T03:36:24.370175Z",
     "start_time": "2025-05-09T03:36:24.368975Z"
    }
   },
   "cell_type": "code",
   "source": "",
   "id": "3d7736fcc0e52571",
   "outputs": [],
   "execution_count": null
  }
 ],
 "metadata": {
  "kernelspec": {
   "display_name": "Python 3",
   "language": "python",
   "name": "python3"
  },
  "language_info": {
   "codemirror_mode": {
    "name": "ipython",
    "version": 2
   },
   "file_extension": ".py",
   "mimetype": "text/x-python",
   "name": "python",
   "nbconvert_exporter": "python",
   "pygments_lexer": "ipython2",
   "version": "2.7.6"
  }
 },
 "nbformat": 4,
 "nbformat_minor": 5
}
